{
  "nbformat": 4,
  "nbformat_minor": 0,
  "metadata": {
    "colab": {
      "provenance": [],
      "machine_shape": "hm",
      "gpuType": "T4",
      "authorship_tag": "ABX9TyONtXScQQDA6OwgsL7ISMjC",
      "include_colab_link": true
    },
    "kernelspec": {
      "name": "python3",
      "display_name": "Python 3"
    },
    "language_info": {
      "name": "python"
    },
    "accelerator": "GPU"
  },
  "cells": [
    {
      "cell_type": "markdown",
      "metadata": {
        "id": "view-in-github",
        "colab_type": "text"
      },
      "source": [
        "<a href=\"https://colab.research.google.com/github/abhinav9800/abhinav99/blob/main/image_classification_using_EfficientNet.ipynb\" target=\"_parent\"><img src=\"https://colab.research.google.com/assets/colab-badge.svg\" alt=\"Open In Colab\"/></a>"
      ]
    },
    {
      "cell_type": "code",
      "source": [
        "# dataset - https://www.kaggle.com/datasets/pavansanagapati/images-dataset"
      ],
      "metadata": {
        "id": "Jz8MG9YWY_tl"
      },
      "execution_count": null,
      "outputs": []
    },
    {
      "cell_type": "code",
      "execution_count": 1,
      "metadata": {
        "id": "_TyLy7FRTyAX"
      },
      "outputs": [],
      "source": [
        "!mkdir -p ~/.kaggle\n",
        "!cp kaggle.json ~/.kaggle/"
      ]
    },
    {
      "cell_type": "code",
      "source": [
        "!kaggle datasets download -d pavansanagapati/images-dataset"
      ],
      "metadata": {
        "colab": {
          "base_uri": "https://localhost:8080/"
        },
        "id": "v0BFs4ZfTypM",
        "outputId": "a2d01152-20ff-4a7b-f209-a6c013ab7b94"
      },
      "execution_count": 2,
      "outputs": [
        {
          "output_type": "stream",
          "name": "stdout",
          "text": [
            "Warning: Your Kaggle API key is readable by other users on this system! To fix this, you can run 'chmod 600 /root/.kaggle/kaggle.json'\n",
            "Downloading images-dataset.zip to /content\n",
            " 99% 1.00G/1.01G [00:15<00:00, 84.5MB/s]\n",
            "100% 1.01G/1.01G [00:15<00:00, 68.9MB/s]\n"
          ]
        }
      ]
    },
    {
      "cell_type": "code",
      "source": [
        "import zipfile\n",
        "zip_ref = zipfile.ZipFile('/content/images-dataset.zip', 'r')\n",
        "zip_ref.extractall('/content')\n",
        "zip_ref.close()"
      ],
      "metadata": {
        "id": "SHHsz09PT85p"
      },
      "execution_count": 3,
      "outputs": []
    },
    {
      "cell_type": "code",
      "source": [
        "!mkdir /content/data/train\n",
        "!mkdir /content/data/test"
      ],
      "metadata": {
        "id": "M_A8RP_PTzVD"
      },
      "execution_count": 4,
      "outputs": []
    },
    {
      "cell_type": "code",
      "source": [
        "import os\n",
        "import random\n",
        "import shutil"
      ],
      "metadata": {
        "id": "M-LCipSLTzXv"
      },
      "execution_count": 5,
      "outputs": []
    },
    {
      "cell_type": "code",
      "source": [
        "!pip install -U efficientnet"
      ],
      "metadata": {
        "colab": {
          "base_uri": "https://localhost:8080/"
        },
        "id": "E8HLRD6zTzcn",
        "outputId": "c61a9cf7-6698-41aa-ccad-66e189a8fed4"
      },
      "execution_count": 6,
      "outputs": [
        {
          "output_type": "stream",
          "name": "stdout",
          "text": [
            "Collecting efficientnet\n",
            "  Downloading efficientnet-1.1.1-py3-none-any.whl (18 kB)\n",
            "Collecting keras-applications<=1.0.8,>=1.0.7 (from efficientnet)\n",
            "  Downloading Keras_Applications-1.0.8-py3-none-any.whl (50 kB)\n",
            "\u001b[2K     \u001b[90m━━━━━━━━━━━━━━━━━━━━━━━━━━━━━━━━━━━━━━━━\u001b[0m \u001b[32m50.7/50.7 kB\u001b[0m \u001b[31m2.2 MB/s\u001b[0m eta \u001b[36m0:00:00\u001b[0m\n",
            "\u001b[?25hRequirement already satisfied: scikit-image in /usr/local/lib/python3.10/dist-packages (from efficientnet) (0.19.3)\n",
            "Requirement already satisfied: numpy>=1.9.1 in /usr/local/lib/python3.10/dist-packages (from keras-applications<=1.0.8,>=1.0.7->efficientnet) (1.25.2)\n",
            "Requirement already satisfied: h5py in /usr/local/lib/python3.10/dist-packages (from keras-applications<=1.0.8,>=1.0.7->efficientnet) (3.9.0)\n",
            "Requirement already satisfied: scipy>=1.4.1 in /usr/local/lib/python3.10/dist-packages (from scikit-image->efficientnet) (1.11.4)\n",
            "Requirement already satisfied: networkx>=2.2 in /usr/local/lib/python3.10/dist-packages (from scikit-image->efficientnet) (3.2.1)\n",
            "Requirement already satisfied: pillow!=7.1.0,!=7.1.1,!=8.3.0,>=6.1.0 in /usr/local/lib/python3.10/dist-packages (from scikit-image->efficientnet) (9.4.0)\n",
            "Requirement already satisfied: imageio>=2.4.1 in /usr/local/lib/python3.10/dist-packages (from scikit-image->efficientnet) (2.31.6)\n",
            "Requirement already satisfied: tifffile>=2019.7.26 in /usr/local/lib/python3.10/dist-packages (from scikit-image->efficientnet) (2024.2.12)\n",
            "Requirement already satisfied: PyWavelets>=1.1.1 in /usr/local/lib/python3.10/dist-packages (from scikit-image->efficientnet) (1.5.0)\n",
            "Requirement already satisfied: packaging>=20.0 in /usr/local/lib/python3.10/dist-packages (from scikit-image->efficientnet) (23.2)\n",
            "Installing collected packages: keras-applications, efficientnet\n",
            "Successfully installed efficientnet-1.1.1 keras-applications-1.0.8\n"
          ]
        }
      ]
    },
    {
      "cell_type": "code",
      "source": [
        "import efficientnet.keras as efn\n",
        "import tensorflow as tf\n",
        "from tensorflow import keras\n",
        "from keras import Sequential\n",
        "from keras.layers import Dense,Flatten\n",
        "from keras.callbacks import EarlyStopping"
      ],
      "metadata": {
        "id": "yIqPRCSITzfS"
      },
      "execution_count": 7,
      "outputs": []
    },
    {
      "cell_type": "code",
      "source": [
        "conv_base = efn.EfficientNetB0(\n",
        "    include_top=False,\n",
        "    weights='imagenet',\n",
        "    classes=7,\n",
        "    input_shape=(150, 150, 3),\n",
        "    drop_connect_rate=0.4\n",
        ")\n"
      ],
      "metadata": {
        "colab": {
          "base_uri": "https://localhost:8080/"
        },
        "id": "kEV_iBBjTzhg",
        "outputId": "990bb092-6679-4cad-973e-fcf80914bec6"
      },
      "execution_count": 8,
      "outputs": [
        {
          "output_type": "stream",
          "name": "stdout",
          "text": [
            "Downloading data from https://github.com/Callidior/keras-applications/releases/download/efficientnet/efficientnet-b0_weights_tf_dim_ordering_tf_kernels_autoaugment_notop.h5\n",
            "16804768/16804768 [==============================] - 0s 0us/step\n"
          ]
        }
      ]
    },
    {
      "cell_type": "code",
      "source": [
        "#Splitting image datasets into train and test dataset\n",
        "\n",
        "data_paths = {\n",
        "    \"car\": \"/content/data/cars\",\n",
        "    \"cat\": \"/content/data/cats\",\n",
        "    \"flower\":\"/content/data/flowers\",\n",
        "    \"horse\":\"/content/data/horses\",\n",
        "    \"human\":\"/content/data/human\",\n",
        "    \"dog\":\"/content/data/dogs\",\n",
        "    \"bike\":\"/content/data/bike\"\n",
        "\n",
        "\n",
        "}\n",
        "\n",
        "train_base_folder = \"/content/data/train\"\n",
        "test_base_folder = \"/content/data/test\"\n",
        "\n",
        "image_extensions = ['.jpg', '.jpeg', '.png', '.bmp']\n",
        "random.seed(42)\n",
        "\n",
        "\n",
        "for category, data_path in data_paths.items():\n",
        "\n",
        "    train_folder = os.path.join(train_base_folder, category)\n",
        "    test_folder = os.path.join(test_base_folder, category)\n",
        "\n",
        "    for folder_path in [train_folder, test_folder]:\n",
        "        if not os.path.exists(folder_path):\n",
        "            os.makedirs(folder_path)\n",
        "\n",
        "\n",
        "    imgs_list = [filename for filename in os.listdir(data_path) if os.path.splitext(filename)[-1] in image_extensions]\n",
        "\n",
        "\n",
        "    random.shuffle(imgs_list)\n",
        "\n",
        "\n",
        "    train_size = int(len(imgs_list) * 0.85)\n",
        "    test_size = int(len(imgs_list) * 0.15)\n",
        "\n",
        "\n",
        "    for i, f in enumerate(imgs_list):\n",
        "        if i < train_size:\n",
        "            dest_folder = train_folder\n",
        "        else:\n",
        "            dest_folder = test_folder\n",
        "        shutil.copy(os.path.join(data_path, f), os.path.join(dest_folder, f))"
      ],
      "metadata": {
        "id": "YoAuvqa7TzkM"
      },
      "execution_count": 9,
      "outputs": []
    },
    {
      "cell_type": "code",
      "source": [
        "from keras.preprocessing.image import ImageDataGenerator, array_to_img, img_to_array, load_img\n",
        "import os"
      ],
      "metadata": {
        "id": "lYLuW4UZTznT"
      },
      "execution_count": 10,
      "outputs": []
    },
    {
      "cell_type": "code",
      "source": [
        "train_dirs = [\"/content/data/train/bike\",\n",
        "              \"/content/data/train/car\",\n",
        "              \"/content/data/train/cat\",\n",
        "              \"/content/data/train/flower\",\n",
        "              \"/content/data/train/horse\",\n",
        "              \"/content/data/train/human\",\n",
        "              \"/content/data/train/dog\"\n",
        "\n",
        "\n",
        "\n",
        "\n",
        "\n",
        "]\n",
        "\n",
        "# Create an ImageDataGenerator for augmentation\n",
        "train_datagen = ImageDataGenerator(\n",
        "    rescale=1./255,\n",
        "    shear_range=0.2,\n",
        "    zoom_range=0.2,\n",
        "    horizontal_flip=True\n",
        ")\n",
        "\n",
        "# Loop over each directory\n",
        "for data_dir in train_dirs:\n",
        "    # Get a list of all image filenames in the directory\n",
        "    image_files = os.listdir(data_dir)\n",
        "\n",
        "\n",
        "    for image_file in image_files:\n",
        "\n",
        "        image_path = os.path.join(data_dir, image_file)\n",
        "        image = load_img(image_path)\n",
        "\n",
        "        image_array = img_to_array(image)\n",
        "\n",
        "        image_array = image_array.reshape((1,) + image_array.shape)\n",
        "\n",
        "\n",
        "        i = 0\n",
        "        for batch in train_datagen.flow(image_array,\n",
        "                                         batch_size=1,\n",
        "                                         save_to_dir=data_dir,\n",
        "                                         save_prefix='augmented_' + image_file.split('.')[0],\n",
        "                                         save_format='jpg'):\n",
        "            i += 1\n",
        "            if i >= 2:\n",
        "                break\n",
        "\n",
        "batch_size= 32\n",
        "train_generator = train_datagen.flow_from_directory(\n",
        "        '/content/data/train',\n",
        "        target_size=(150, 150),\n",
        "        batch_size=batch_size,\n",
        "        class_mode='categorical')\n",
        "\n",
        "test_datagen = ImageDataGenerator(rescale=1./255)\n",
        "\n",
        "validation_generator = test_datagen.flow_from_directory(\n",
        "        '/content/data/test',\n",
        "        target_size=(150, 150),\n",
        "        batch_size=batch_size,\n",
        "        class_mode='categorical')"
      ],
      "metadata": {
        "colab": {
          "base_uri": "https://localhost:8080/"
        },
        "id": "WbCr8X2ATzp9",
        "outputId": "5a57bbdf-a092-4767-a961-fc9f5ae396c6"
      },
      "execution_count": 11,
      "outputs": [
        {
          "output_type": "stream",
          "name": "stdout",
          "text": [
            "Found 4577 images belonging to 7 classes.\n",
            "Found 274 images belonging to 7 classes.\n"
          ]
        }
      ]
    },
    {
      "cell_type": "code",
      "source": [
        "model = Sequential()\n",
        "\n",
        "model.add(conv_base)\n",
        "model.add(Flatten())\n",
        "model.add(Dense(256, activation='relu'))\n",
        "model.add(Dense(7, activation='softmax'))"
      ],
      "metadata": {
        "id": "7EovdppaTztY"
      },
      "execution_count": 12,
      "outputs": []
    },
    {
      "cell_type": "code",
      "source": [
        "train_ds = keras.utils.image_dataset_from_directory(\n",
        "    directory='/content/data/train',\n",
        "    labels='inferred',\n",
        "    label_mode='int',\n",
        "    batch_size=32,\n",
        "    image_size=(150, 150)\n",
        ")\n",
        "\n",
        "validation_ds = keras.utils.image_dataset_from_directory(\n",
        "    directory='/content/data/test',\n",
        "    labels='inferred',\n",
        "    label_mode='int',\n",
        "    batch_size=32,\n",
        "    image_size=(150, 150)\n",
        ")"
      ],
      "metadata": {
        "colab": {
          "base_uri": "https://localhost:8080/"
        },
        "id": "_Ry7qttsUhBA",
        "outputId": "27748340-bfb1-4ecf-f4c6-646ab3c5134a"
      },
      "execution_count": 13,
      "outputs": [
        {
          "output_type": "stream",
          "name": "stdout",
          "text": [
            "Found 4577 files belonging to 7 classes.\n",
            "Found 274 files belonging to 7 classes.\n"
          ]
        }
      ]
    },
    {
      "cell_type": "code",
      "source": [
        "def process(image, label):\n",
        "    image = tf.cast(image / 255., tf.float32)\n",
        "    return image, label\n",
        "\n",
        "train_ds = train_ds.map(process)\n",
        "validation_ds = validation_ds.map(process)"
      ],
      "metadata": {
        "id": "Gn0DpYJJUhDq"
      },
      "execution_count": 14,
      "outputs": []
    },
    {
      "cell_type": "code",
      "source": [
        "model.compile(\n",
        "    optimizer=keras.optimizers.RMSprop(learning_rate=1e-5),\n",
        "    loss='sparse_categorical_crossentropy',\n",
        "    metrics=['accuracy']\n",
        ")"
      ],
      "metadata": {
        "id": "W60cUl5lUhIj"
      },
      "execution_count": 15,
      "outputs": []
    },
    {
      "cell_type": "code",
      "source": [
        "early_stopping_callback = EarlyStopping(monitor='val_accuracy', patience=2)\n",
        "\n",
        "history = model.fit(train_ds, epochs=10, validation_data=validation_ds,callbacks=[early_stopping_callback])\n"
      ],
      "metadata": {
        "colab": {
          "base_uri": "https://localhost:8080/"
        },
        "id": "PCvjLyMeUhLO",
        "outputId": "b33b77e5-0dbf-418c-d733-1699a6116b13"
      },
      "execution_count": 16,
      "outputs": [
        {
          "output_type": "stream",
          "name": "stdout",
          "text": [
            "Epoch 1/10\n",
            "144/144 [==============================] - 48s 146ms/step - loss: 0.7447 - accuracy: 0.7640 - val_loss: 0.2484 - val_accuracy: 0.9270\n",
            "Epoch 2/10\n",
            "144/144 [==============================] - 17s 120ms/step - loss: 0.1441 - accuracy: 0.9596 - val_loss: 0.1167 - val_accuracy: 0.9635\n",
            "Epoch 3/10\n",
            "144/144 [==============================] - 18s 121ms/step - loss: 0.0702 - accuracy: 0.9819 - val_loss: 0.0676 - val_accuracy: 0.9781\n",
            "Epoch 4/10\n",
            "144/144 [==============================] - 18s 122ms/step - loss: 0.0408 - accuracy: 0.9889 - val_loss: 0.0444 - val_accuracy: 0.9854\n",
            "Epoch 5/10\n",
            "144/144 [==============================] - 18s 123ms/step - loss: 0.0241 - accuracy: 0.9948 - val_loss: 0.0374 - val_accuracy: 0.9891\n",
            "Epoch 6/10\n",
            "144/144 [==============================] - 18s 122ms/step - loss: 0.0148 - accuracy: 0.9967 - val_loss: 0.0359 - val_accuracy: 0.9891\n",
            "Epoch 7/10\n",
            "144/144 [==============================] - 18s 122ms/step - loss: 0.0117 - accuracy: 0.9978 - val_loss: 0.0304 - val_accuracy: 0.9891\n"
          ]
        }
      ]
    },
    {
      "cell_type": "code",
      "source": [],
      "metadata": {
        "id": "lU0MwbpiUhOd"
      },
      "execution_count": 16,
      "outputs": []
    }
  ]
}
